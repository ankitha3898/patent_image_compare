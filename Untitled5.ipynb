{
 "cells": [
  {
   "cell_type": "code",
   "execution_count": 13,
   "id": "1f709be5",
   "metadata": {},
   "outputs": [],
   "source": [
    "from PIL import Image\n",
    "import os\n",
    "import pickle\n",
    "from glob import glob\n",
    "\n",
    "## to convert whole images inside bird folder\n",
    "## input folder = bird\\\\images\\\\all_images_in_jpg_format\n",
    "\n",
    "PICKLE_FILE = \"E:\\images_y\\\\filenames.pickle\"\n",
    "SOURCE_DIRECTORY = \"E:\\\\images_y\"\n",
    "PICKLE_IMAGES = \"E:\\\\images_y\\\\images.pickle\"\n",
    "\n",
    "path_list = glob(os.path.join(SOURCE_DIRECTORY, \"*.jpg\"))\n",
    "\n",
    "# pickle images into big pickle file\n",
    "\n",
    "with open(PICKLE_IMAGES,\"wb\") as f:\n",
    "    for file_name in path_list:\n",
    "        extra = cv2.imread(file_name)\n",
    "        extra = cv2.cvtColor(extra, cv2.COLOR_BGR2GRAY)\n",
    "        extra=cv2.resize(extra,(750,750))\n",
    "        pickle.dump(extra,f)"
   ]
  },
  {
   "cell_type": "code",
   "execution_count": 14,
   "id": "3161c376",
   "metadata": {},
   "outputs": [],
   "source": [
    "from skimage.metrics import structural_similarity as ssim\n",
    "import matplotlib.pyplot as plt\n",
    "import numpy as np\n",
    "import cv2\n",
    "import time\n",
    "\n",
    "start = time.time()\n",
    "def mse(imageA, imageB):\n",
    "    # the 'Mean Squared Error' between the two images is the\n",
    "    # sum of the squared difference between the two images;\n",
    "    # NOTE: the two images must have the same dimension\n",
    "    err = np.sum((imageA.astype(\"float\") - imageB.astype(\"float\")) ** 2)\n",
    "    err /= float(imageA.shape[0] * imageA.shape[1])\n",
    "\n",
    "    # return the MSE, the lower the error, the more \"similar\"\n",
    "    # the two images are\n",
    "    return err\n",
    "\n",
    "def compare_images(imageA, imageB, title):\n",
    "    # compute the mean squared error and structural similarity\n",
    "    # index for the images\n",
    "    m = mse(imageA, imageB)\n",
    "    s = ssim(imageA, imageB)\n",
    "    print(m,s)"
   ]
  },
  {
   "cell_type": "code",
   "execution_count": 15,
   "id": "552834f6",
   "metadata": {},
   "outputs": [],
   "source": [
    "file_list = list(\n",
    "    map(\n",
    "        lambda x: os.path.basename(x), path_list)\n",
    ")\n"
   ]
  },
  {
   "cell_type": "code",
   "execution_count": 16,
   "id": "1e4c93c3",
   "metadata": {},
   "outputs": [],
   "source": [
    "pickle.dump(file_list, open(PICKLE_FILE, 'wb'))\n"
   ]
  },
  {
   "cell_type": "code",
   "execution_count": 17,
   "id": "9f06c588",
   "metadata": {},
   "outputs": [
    {
     "name": "stdout",
     "output_type": "stream",
     "text": [
      "Lists Match!\n"
     ]
    }
   ],
   "source": [
    "recovered_list = pickle.load(open(PICKLE_FILE,\"rb\"))\n",
    "\n",
    "if file_list == recovered_list:\n",
    "    print(\"Lists Match!\")\n",
    "else:\n",
    "    print(\"Lists Don't Match!!!\")\n"
   ]
  },
  {
   "cell_type": "code",
   "execution_count": 18,
   "id": "65bcec56",
   "metadata": {},
   "outputs": [],
   "source": [
    "original = cv2.imread(r'E:\\patent\\image.jpg')\n",
    "original = cv2.cvtColor(original, cv2.COLOR_BGR2GRAY)\n",
    "original=cv2.resize(original,(750,750))\n"
   ]
  },
  {
   "cell_type": "code",
   "execution_count": 20,
   "id": "b1c762c6",
   "metadata": {},
   "outputs": [
    {
     "name": "stdout",
     "output_type": "stream",
     "text": [
      "[array([[ 68,  96, 135, ...,  99,  99, 100],\n",
      "       [ 61, 101, 140, ...,  99,  99,  99],\n",
      "       [ 56, 100, 142, ...,  99,  99,  99],\n",
      "       ...,\n",
      "       [ 16,  16,  17, ..., 110, 110, 111],\n",
      "       [ 16,  16,  17, ..., 110, 110, 111],\n",
      "       [ 16,  16,  17, ..., 110, 110, 111]], dtype=uint8), array([[ 50,  51,  53, ..., 152, 152, 152],\n",
      "       [ 50,  51,  53, ..., 152, 152, 152],\n",
      "       [ 50,  51,  53, ..., 152, 152, 152],\n",
      "       ...,\n",
      "       [ 13,  13,  13, ..., 121, 116, 112],\n",
      "       [ 13,  13,  13, ..., 121, 119, 116],\n",
      "       [ 13,  13,  13, ..., 124, 122, 122]], dtype=uint8), array([[ 45,  92, 132, ...,  86,  86,  86],\n",
      "       [ 45,  93, 137, ...,  86,  86,  86],\n",
      "       [ 46,  95, 142, ...,  86,  86,  86],\n",
      "       ...,\n",
      "       [ 12,  12,  12, ...,  99,  99, 100],\n",
      "       [ 12,  12,  12, ...,  99,  99, 100],\n",
      "       [ 12,  12,  12, ...,  99,  99, 100]], dtype=uint8), array([[ 47,  87, 135, ...,  85,  84,  86],\n",
      "       [ 49,  86, 134, ...,  84,  84,  85],\n",
      "       [ 52,  87, 131, ...,  84,  83,  84],\n",
      "       ...,\n",
      "       [ 12,  12,  12, ...,  97,  97,  97],\n",
      "       [ 12,  12,  12, ...,  97,  97,  97],\n",
      "       [ 12,  12,  12, ...,  97,  97,  97]], dtype=uint8), array([[105, 105, 102, ..., 121, 121, 123],\n",
      "       [104, 106, 104, ..., 123, 124, 125],\n",
      "       [104, 106, 105, ..., 122, 122, 125],\n",
      "       ...,\n",
      "       [ 78,  78,  84, ..., 140, 137, 142],\n",
      "       [ 81,  80,  84, ..., 139, 139, 141],\n",
      "       [ 77,  79,  85, ..., 137, 144, 138]], dtype=uint8), array([[ 49,  85, 125, ...,  86,  86,  86],\n",
      "       [ 49,  89, 129, ...,  86,  86,  85],\n",
      "       [ 53,  90, 133, ...,  86,  86,  85],\n",
      "       ...,\n",
      "       [ 13,  13,  13, ...,  99,  99, 100],\n",
      "       [ 13,  13,  13, ...,  99,  99, 100],\n",
      "       [ 13,  13,  13, ...,  99,  98, 100]], dtype=uint8), array([[ 55,  53,  58, ..., 153, 154, 154],\n",
      "       [ 55,  54,  58, ..., 153, 153, 155],\n",
      "       [ 54,  54,  59, ..., 154, 153, 155],\n",
      "       ...,\n",
      "       [ 15,  15,  15, ..., 123, 123, 121],\n",
      "       [ 15,  15,  14, ..., 126, 125, 122],\n",
      "       [ 15,  15,  14, ..., 125, 123, 122]], dtype=uint8), array([[ 54,  54,  59, ..., 153, 152, 152],\n",
      "       [ 54,  54,  58, ..., 153, 152, 152],\n",
      "       [ 54,  54,  58, ..., 152, 152, 152],\n",
      "       ...,\n",
      "       [ 15,  15,  15, ..., 126, 124, 120],\n",
      "       [ 15,  15,  15, ..., 125, 127, 122],\n",
      "       [ 14,  14,  14, ..., 127, 129, 124]], dtype=uint8)]\n"
     ]
    }
   ],
   "source": [
    "import pandas as pd\n",
    "import pickle\n",
    "objects = []\n",
    "with open(PICKLE_IMAGES,\"rb\") as openfile:\n",
    "    while True:\n",
    "        try:\n",
    "            objects.append(pickle.load(openfile))\n",
    "        except EOFError:\n",
    "            break\n",
    "        \n",
    "print(objects)\n"
   ]
  },
  {
   "cell_type": "code",
   "execution_count": 21,
   "id": "64b427b7",
   "metadata": {},
   "outputs": [
    {
     "name": "stdout",
     "output_type": "stream",
     "text": [
      "9792.847960888888 0.3735842258768755\n",
      "8483.392323555556 0.3882973277703415\n",
      "10656.957888 0.36127946633843944\n",
      "10870.880920888889 0.3578276223058377\n",
      "5296.976887111111 0.4699139981270998\n",
      "10388.055356444445 0.37201121594205516\n",
      "8490.885582222223 0.40301746430420765\n",
      "8418.05651911111 0.3965605902444561\n"
     ]
    }
   ],
   "source": [
    "for i in objects:\n",
    "    compare_images(original, i, \"Original vs. Original\")\n"
   ]
  },
  {
   "cell_type": "code",
   "execution_count": null,
   "id": "910fc518",
   "metadata": {},
   "outputs": [],
   "source": [
    "\n",
    "\n",
    "with open(PICKLE_IMAGES,\"rb\") as f:\n",
    "    while True:\n",
    "        try:   \n",
    "            for i in f:\n",
    "                print(f[0])\n",
    "#                 extra = cv2.cvtColor(extra, cv2.COLOR_BGR2GRAY)\n",
    "#                 extra=cv2.resize(extra,(750,750))\n",
    "#                 compare_images(original, extra, \"Original vs. Original\")\n",
    "\n",
    "#         end = time.time()\n",
    "#         print(end - start)\n",
    "            \n",
    "            \n",
    "#             pickle.load(f).show()\n",
    "#             display_count -= 1\n",
    "#             if display_count <= 0:\n",
    "#                 break\n",
    "        except EOFerror as e:\n",
    "            break\n"
   ]
  },
  {
   "cell_type": "code",
   "execution_count": null,
   "id": "052cf94d",
   "metadata": {},
   "outputs": [],
   "source": []
  }
 ],
 "metadata": {
  "kernelspec": {
   "display_name": "Python 3 (ipykernel)",
   "language": "python",
   "name": "python3"
  },
  "language_info": {
   "codemirror_mode": {
    "name": "ipython",
    "version": 3
   },
   "file_extension": ".py",
   "mimetype": "text/x-python",
   "name": "python",
   "nbconvert_exporter": "python",
   "pygments_lexer": "ipython3",
   "version": "3.10.9"
  }
 },
 "nbformat": 4,
 "nbformat_minor": 5
}
