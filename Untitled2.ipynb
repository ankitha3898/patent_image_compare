{
 "cells": [
  {
   "cell_type": "code",
   "execution_count": null,
   "id": "b44e4956",
   "metadata": {},
   "outputs": [],
   "source": [
    "import os\n",
    "\n",
    "dir = 'files/'\n",
    "\n",
    "for file in os.listdir(dir):\n",
    "    old_filepath = os.path.join(dir, file)\n",
    "    new_name = 'old_' + file\n",
    "    new_filepath = os.path.join(dir, new_name)\n",
    "\n",
    "    os.rename(old_filepath, new_filepath)\n"
   ]
  },
  {
   "cell_type": "code",
   "execution_count": 38,
   "id": "149250af",
   "metadata": {},
   "outputs": [],
   "source": [
    "import os\n",
    "dir=r'C:\\Users\\Elorce\\Downloads\\archive (10)\\train/'\n",
    "i=0\n",
    "for file in os.listdir(dir):\n",
    "    old_filepath = os.path.join(dir, file)\n",
    "    new_name = str(i) + 'butterfly'+file\n",
    "    new_filepath = os.path.join(dir, new_name)\n",
    "\n",
    "    os.rename(old_filepath, new_filepath)\n",
    "    i=i+1\n",
    "    \n",
    "    "
   ]
  },
  {
   "cell_type": "code",
   "execution_count": 39,
   "id": "4f7c56f4",
   "metadata": {},
   "outputs": [],
   "source": [
    "import shutil\n",
    "dir=r'C:\\Users\\Elorce\\Downloads\\archive (10)\\train/'\n",
    "\n",
    "for file in os.listdir(dir):\n",
    "    old_filepath = os.path.join(dir, file)\n",
    "    destination=r'E:\\patent\\images'\n",
    "    shutil.move(old_filepath, destination)\n"
   ]
  },
  {
   "cell_type": "code",
   "execution_count": null,
   "id": "2f0aa9ec",
   "metadata": {},
   "outputs": [],
   "source": [
    "import cv2\n",
    "vidcap = cv2.VideoCapture('Compton.mp4')\n",
    "success,image = vidcap.read()\n",
    "count = 0\n",
    "success = True\n",
    "while success:\n",
    "  success,image = vidcap.read()\n",
    "  cv2.imwrite(\"frame%d.jpg\" % count, image)     # save frame as JPEG file\n",
    "  if cv2.waitKey(10) == 27:                     # exit if Escape is hit\n",
    "      break\n",
    "  count += 1\n"
   ]
  },
  {
   "cell_type": "code",
   "execution_count": 40,
   "id": "cf99a106",
   "metadata": {},
   "outputs": [
    {
     "name": "stdout",
     "output_type": "stream",
     "text": [
      "52.9\n",
      "0.0\n"
     ]
    }
   ],
   "source": [
    "import time\n",
    "\n",
    "start = time.time()\n",
    "\n",
    "print(23*2.3)\n",
    "\n",
    "end = time.time()\n",
    "print(end - start)\n"
   ]
  },
  {
   "cell_type": "code",
   "execution_count": 41,
   "id": "162ac624",
   "metadata": {},
   "outputs": [
    {
     "name": "stdout",
     "output_type": "stream",
     "text": [
      "0\n",
      "1\n",
      "2\n",
      "3\n",
      "4\n",
      "5\n",
      "6\n",
      "7\n",
      "8\n",
      "9\n",
      "0.0\n"
     ]
    }
   ],
   "source": [
    "import time\n",
    "\n",
    "start = time.time()\n",
    "\n",
    "for i in range(10):\n",
    "    print(i)\n",
    "end = time.time()\n",
    "print(end - start)\n"
   ]
  },
  {
   "cell_type": "code",
   "execution_count": null,
   "id": "842f65fb",
   "metadata": {},
   "outputs": [],
   "source": []
  }
 ],
 "metadata": {
  "kernelspec": {
   "display_name": "Python 3 (ipykernel)",
   "language": "python",
   "name": "python3"
  },
  "language_info": {
   "codemirror_mode": {
    "name": "ipython",
    "version": 3
   },
   "file_extension": ".py",
   "mimetype": "text/x-python",
   "name": "python",
   "nbconvert_exporter": "python",
   "pygments_lexer": "ipython3",
   "version": "3.10.9"
  }
 },
 "nbformat": 4,
 "nbformat_minor": 5
}
